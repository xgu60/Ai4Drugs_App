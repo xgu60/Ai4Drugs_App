{
 "cells": [
  {
   "cell_type": "code",
   "execution_count": 3,
   "metadata": {},
   "outputs": [
    {
     "name": "stdout",
     "output_type": "stream",
     "text": [
      "(4097, 1)\n"
     ]
    },
    {
     "data": {
      "text/plain": [
       "0.0067733732042215998"
      ]
     },
     "execution_count": 3,
     "metadata": {},
     "output_type": "execute_result"
    }
   ],
   "source": [
    "#prediction using model parameters\n",
    "from rdkit import Chem, DataStructs\n",
    "from rdkit.Chem import AllChem\n",
    "from rdkit.Chem import Draw\n",
    "import numpy as np \n",
    "import pandas as pd \n",
    "\n",
    "def predict(smiles):\n",
    "\t#compute features from smiles\n",
    "\ttry:\n",
    "\t\tarr = np.zeros((1, ))\n",
    "\t\tcompound = Chem.MolFromSmiles(smiles)\n",
    "\t\tfp = AllChem.GetMorganFingerprintAsBitVect(compound, 3, 4096)\n",
    "\t\tDataStructs.ConvertToNumpyArray(fp, arr)\n",
    "\texcept:\n",
    "\t\tprint(\"Error in featurizing smile!\")\n",
    "\t\t\n",
    "\tdata_input = np.append([1], arr)\n",
    "\tpara = pd.read_csv(\"lr_parameters.csv\")\n",
    "\tprint(para.shape)\n",
    "\tcalc = np.sum(data_input * para.iloc[:, 0])\n",
    "\tproba = np.exp(calc) / (1 + np.exp(calc))\n",
    "\treturn proba\n",
    "\n",
    "\n",
    "\n",
    "res = predict(\"CCCCOC(=O)C1=CC=C(C=C1)N\")\n",
    "res\n"
   ]
  },
  {
   "cell_type": "code",
   "execution_count": null,
   "metadata": {},
   "outputs": [],
   "source": []
  }
 ],
 "metadata": {
  "kernelspec": {
   "display_name": "Python 3",
   "language": "python",
   "name": "python3"
  },
  "language_info": {
   "codemirror_mode": {
    "name": "ipython",
    "version": 3
   },
   "file_extension": ".py",
   "mimetype": "text/x-python",
   "name": "python",
   "nbconvert_exporter": "python",
   "pygments_lexer": "ipython3",
   "version": "3.6.2"
  }
 },
 "nbformat": 4,
 "nbformat_minor": 2
}
